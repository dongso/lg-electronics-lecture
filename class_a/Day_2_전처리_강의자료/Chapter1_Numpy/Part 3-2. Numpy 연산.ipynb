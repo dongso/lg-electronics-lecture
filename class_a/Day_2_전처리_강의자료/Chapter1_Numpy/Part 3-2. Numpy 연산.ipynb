{
 "cells": [
  {
   "cell_type": "code",
   "execution_count": 2,
   "metadata": {
    "colab": {},
    "colab_type": "code",
    "id": "AQsMXyOxR9WO"
   },
   "outputs": [],
   "source": [
    "import numpy as np"
   ]
  },
  {
   "cell_type": "markdown",
   "metadata": {
    "colab_type": "text",
    "id": "_kOHdUTeR9XA"
   },
   "source": [
    "# 1. Universal 함수"
   ]
  },
  {
   "cell_type": "markdown",
   "metadata": {
    "colab_type": "text",
    "id": "pqu6IRFQR9XG"
   },
   "source": [
    "ufunc라고 불리는 유니버셜 함수는 ndarray 안에 있는 데이터 원소별로 연산을 수행하는 함수이다. 유니버셜 함수는 하나 이상의 스칼라 값을 받아서 하나 이상의 스칼라 결과 값을 반환하는 간단한 함수를 고속으로 수행할 수 있는 백터화된 래퍼 함수라고 생각하면 된다."
   ]
  },
  {
   "cell_type": "code",
   "execution_count": 0,
   "metadata": {
    "colab": {},
    "colab_type": "code",
    "id": "Fwh_hVxUR9XL",
    "outputId": "0f783dd6-6f59-4252-b8fb-4d64a450bb24"
   },
   "outputs": [
    {
     "data": {
      "text/plain": [
       "array([0, 1, 2, 3, 4, 5, 6, 7, 8, 9])"
      ]
     },
     "execution_count": 6,
     "metadata": {
      "tags": []
     },
     "output_type": "execute_result"
    }
   ],
   "source": [
    "arr = np.arange(10)\n",
    "arr"
   ]
  },
  {
   "cell_type": "code",
   "execution_count": 0,
   "metadata": {
    "colab": {},
    "colab_type": "code",
    "id": "6psT0o_BR9Xk",
    "outputId": "e7d2b073-db34-40ad-d52a-f49dec56e5e8"
   },
   "outputs": [
    {
     "data": {
      "text/plain": [
       "array([0.        , 1.        , 1.41421356, 1.73205081, 2.        ,\n",
       "       2.23606798, 2.44948974, 2.64575131, 2.82842712, 3.        ])"
      ]
     },
     "execution_count": 7,
     "metadata": {
      "tags": []
     },
     "output_type": "execute_result"
    }
   ],
   "source": [
    "np.sqrt(arr)"
   ]
  },
  {
   "cell_type": "code",
   "execution_count": 0,
   "metadata": {
    "colab": {},
    "colab_type": "code",
    "id": "TJGU1MOlR9X0",
    "outputId": "fe0068b1-0251-43f7-c3ef-4f0a23ed1942"
   },
   "outputs": [
    {
     "data": {
      "text/plain": [
       "array([1.00000000e+00, 2.71828183e+00, 7.38905610e+00, 2.00855369e+01,\n",
       "       5.45981500e+01, 1.48413159e+02, 4.03428793e+02, 1.09663316e+03,\n",
       "       2.98095799e+03, 8.10308393e+03])"
      ]
     },
     "execution_count": 8,
     "metadata": {
      "tags": []
     },
     "output_type": "execute_result"
    }
   ],
   "source": [
    "np.exp(arr)"
   ]
  },
  {
   "cell_type": "code",
   "execution_count": 0,
   "metadata": {
    "colab": {},
    "colab_type": "code",
    "id": "t0jGa2TcR9X9"
   },
   "outputs": [],
   "source": [
    "x = np.random.randn(8)\n",
    "y = np.random.randn(8)"
   ]
  },
  {
   "cell_type": "code",
   "execution_count": 0,
   "metadata": {
    "colab": {},
    "colab_type": "code",
    "id": "zwCMysykR9YE",
    "outputId": "41c58781-6f3c-4726-96c7-d8adeace4c10"
   },
   "outputs": [
    {
     "data": {
      "text/plain": [
       "array([-1.4423063 ,  0.15591954,  0.35655707,  1.9711139 ,  1.33431801,\n",
       "        0.55076497,  1.65486003,  0.37015179])"
      ]
     },
     "execution_count": 11,
     "metadata": {
      "tags": []
     },
     "output_type": "execute_result"
    }
   ],
   "source": [
    "np.maximum(x, y) # element wise operation"
   ]
  },
  {
   "cell_type": "markdown",
   "metadata": {
    "colab_type": "text",
    "id": "0flAw-9_R9YM"
   },
   "source": [
    "### 단항 유니버셜 함수\n",
    "\n",
    "- abs: 각 원소의 절대값을 구한다.\n",
    "- sqrt: 각 원소의 제곱근을 구한다.\n",
    "- square: 각 원소의 제곱을 구한다.\n",
    "- sign: 각 원소의 부호를 계산한다.\n",
    "- ceil, floor: 각 원소의 소수자리를 올리거나 내린다.\n",
    "- rint: 각 원소의 소수자리를 반올림한다.\n",
    "- sin, cos, tan: 일반 삼각함수\n",
    "- sinh, cosh, tanh: 쌍곡삼각 함수\n",
    "- arccos, arccosh, arcsinh: 역삼각함수"
   ]
  },
  {
   "cell_type": "markdown",
   "metadata": {
    "colab_type": "text",
    "id": "tH1lqCJHR9YO"
   },
   "source": [
    "### 이항 유니버셜 함수"
   ]
  },
  {
   "cell_type": "markdown",
   "metadata": {
    "colab_type": "text",
    "id": "dsSMFsTIR9YR"
   },
   "source": [
    "- add, subtract, multiply: 두 배열에서 같은 위치 원소끼리 더하고, 빼고, 곱한다.\n",
    "- divide: 첫 번째 배열에서 두 번째 배열의 원소를 나눈다.\n",
    "- power: 첫 번째 배열의 원소에 두 번째 배열의 원소만큼 제곱한다.\n",
    "- maximum, minimum: 두 원소 중 큰 값, 작은 값을 반환한다.\n",
    "- mod: 첫 번째 배열의 원소에 두 번째 배열의 원소를 나눈 나머지를 구한다.\n",
    "- greater, less, equal: 각각 두 원소 간의 비교 연산 결과를 불리언 배열로 반환한다.\n",
    "- logical_and, logical_or, logical_xor: 각각 두 원소 간의 논리 연산을 배열로 반환한다."
   ]
  },
  {
   "cell_type": "markdown",
   "metadata": {
    "colab_type": "text",
    "id": "goRYXvUcR9YS"
   },
   "source": [
    "# 2. 배열 연산"
   ]
  },
  {
   "cell_type": "markdown",
   "metadata": {
    "colab_type": "text",
    "id": "ueUzQr_cR9YT"
   },
   "source": [
    "### 1. 조건절 표현하기"
   ]
  },
  {
   "cell_type": "code",
   "execution_count": 0,
   "metadata": {
    "colab": {},
    "colab_type": "code",
    "id": "t8EazDhMR9YV"
   },
   "outputs": [],
   "source": [
    "xarr = np.array([1.1, 1.2, 1.3, 1.4, 1.5])\n",
    "yarr = np.array([2.1, 2.2, 2.3, 2.4, 2.5])\n",
    "cond = np.array([True, False, True, True, False])"
   ]
  },
  {
   "cell_type": "code",
   "execution_count": 0,
   "metadata": {
    "colab": {},
    "colab_type": "code",
    "id": "DTeaV9urR9Ya"
   },
   "outputs": [],
   "source": [
    "result = np.where(cond, xarr, yarr)"
   ]
  },
  {
   "cell_type": "code",
   "execution_count": 0,
   "metadata": {
    "colab": {},
    "colab_type": "code",
    "id": "9CSR6fY1R9Yj",
    "outputId": "ffadc075-2011-4011-c6b1-a133419602fe"
   },
   "outputs": [
    {
     "data": {
      "text/plain": [
       "array([1.1, 2.2, 1.3, 1.4, 2.5])"
      ]
     },
     "execution_count": 14,
     "metadata": {
      "tags": []
     },
     "output_type": "execute_result"
    }
   ],
   "source": [
    "result"
   ]
  },
  {
   "cell_type": "code",
   "execution_count": 9,
   "metadata": {
    "colab": {},
    "colab_type": "code",
    "id": "7ztmiDHZR9Ys",
    "outputId": "12367943-90bd-4096-f0cf-2cf24ba995be"
   },
   "outputs": [
    {
     "data": {
      "text/plain": [
       "array([[-0.06151794, -1.09937216, -0.3238963 ,  0.9723139 ],\n",
       "       [-1.04576512,  1.68735391, -0.25837225,  0.19800455],\n",
       "       [ 0.02008683,  1.5118426 ,  0.90752229,  0.04042003],\n",
       "       [-2.1873865 , -0.17624809, -0.14246374,  0.07332915]])"
      ]
     },
     "execution_count": 9,
     "metadata": {},
     "output_type": "execute_result"
    }
   ],
   "source": [
    "arr = np.random.randn(4, 4)\n",
    "arr"
   ]
  },
  {
   "cell_type": "code",
   "execution_count": 10,
   "metadata": {
    "colab": {},
    "colab_type": "code",
    "id": "FixOcw_pR9Y3",
    "outputId": "13b86e6a-05de-4984-f999-64454999bcce"
   },
   "outputs": [
    {
     "data": {
      "text/plain": [
       "array([[-2, -2, -2,  2],\n",
       "       [-2,  2, -2,  2],\n",
       "       [ 2,  2,  2,  2],\n",
       "       [-2, -2, -2,  2]])"
      ]
     },
     "execution_count": 10,
     "metadata": {},
     "output_type": "execute_result"
    }
   ],
   "source": [
    "np.where(arr > 0, 2, -2)"
   ]
  },
  {
   "cell_type": "markdown",
   "metadata": {
    "colab_type": "text",
    "id": "LlmJ6rS8R9ZB"
   },
   "source": [
    "### 2. 수학 메서드와 통계 메서드"
   ]
  },
  {
   "cell_type": "markdown",
   "metadata": {
    "colab_type": "text",
    "id": "92gV1gUER9ZC"
   },
   "source": [
    "배열 전체 혹은 배열에서 한 축에 따르는 자료에 대한 통계를 계산하기 위한 수학 함수는 배열 메서드로 사용할 수 있다. 전체의 합이나 평균, 표준편차는 Numpy의 최상위 함수를 이용하거나, 배열의 인스턴스 메서드를 사용해서 구할 수 있다."
   ]
  },
  {
   "cell_type": "code",
   "execution_count": 3,
   "metadata": {
    "colab": {},
    "colab_type": "code",
    "id": "ohJf7Ta7R9ZE",
    "outputId": "893c575a-1ddb-43e5-ba12-962281b35bb9"
   },
   "outputs": [
    {
     "data": {
      "text/plain": [
       "array([[0.6188411 , 0.25080158, 0.32615459, 0.80098471],\n",
       "       [0.49581152, 0.83142975, 0.13732407, 0.25260418],\n",
       "       [0.04058447, 0.19629556, 0.74068295, 0.11075793],\n",
       "       [0.41734836, 0.27346206, 0.98758177, 0.80306364],\n",
       "       [0.03562774, 0.56174066, 0.66179141, 0.09367558]])"
      ]
     },
     "execution_count": 3,
     "metadata": {},
     "output_type": "execute_result"
    }
   ],
   "source": [
    "arr = np.random.rand(5, 4)\n",
    "arr"
   ]
  },
  {
   "cell_type": "code",
   "execution_count": 4,
   "metadata": {
    "colab": {},
    "colab_type": "code",
    "id": "zfnD8HrqR9ZJ",
    "outputId": "d20240b6-ccb8-4a05-cc4a-4b804d8b780c"
   },
   "outputs": [
    {
     "data": {
      "text/plain": [
       "0.4318281811186714"
      ]
     },
     "execution_count": 4,
     "metadata": {},
     "output_type": "execute_result"
    }
   ],
   "source": [
    "arr.mean()"
   ]
  },
  {
   "cell_type": "code",
   "execution_count": 5,
   "metadata": {
    "colab": {},
    "colab_type": "code",
    "id": "urtkCymHR9ZU",
    "outputId": "eeed39a7-80d8-4c17-eaee-a7ecdb995740"
   },
   "outputs": [
    {
     "data": {
      "text/plain": [
       "0.4318281811186714"
      ]
     },
     "execution_count": 5,
     "metadata": {},
     "output_type": "execute_result"
    }
   ],
   "source": [
    "np.mean(arr)"
   ]
  },
  {
   "cell_type": "markdown",
   "metadata": {
    "colab_type": "text",
    "id": "N713d1yiR9ZZ"
   },
   "source": [
    "- mean이나 sum 같은 함수는 선택적으로 axis 인자를 받아 해당 axis에 대한 통계를 계산하고 차수 낮은 배열을 반환한다."
   ]
  },
  {
   "cell_type": "code",
   "execution_count": 6,
   "metadata": {
    "colab": {},
    "colab_type": "code",
    "id": "6sToMvVdR9Zc",
    "outputId": "ada2e3a9-dcd8-4b0e-986a-58c7f0f61b91"
   },
   "outputs": [
    {
     "data": {
      "text/plain": [
       "8.636563622373428"
      ]
     },
     "execution_count": 6,
     "metadata": {},
     "output_type": "execute_result"
    }
   ],
   "source": [
    "arr.sum()"
   ]
  },
  {
   "cell_type": "code",
   "execution_count": 7,
   "metadata": {
    "colab": {},
    "colab_type": "code",
    "id": "MOF9YFt0R9Zk",
    "outputId": "240a28db-f172-444e-fb23-3651f79a471f"
   },
   "outputs": [
    {
     "data": {
      "text/plain": [
       "array([0.4991955 , 0.42929238, 0.27208023, 0.62036395, 0.33820885])"
      ]
     },
     "execution_count": 7,
     "metadata": {},
     "output_type": "execute_result"
    }
   ],
   "source": [
    "arr.mean(axis=1)"
   ]
  },
  {
   "cell_type": "code",
   "execution_count": 0,
   "metadata": {
    "colab": {},
    "colab_type": "code",
    "id": "wzV-DubwR9Zp",
    "outputId": "5494b381-9571-4b5b-cd6d-f77310847ccc"
   },
   "outputs": [
    {
     "data": {
      "text/plain": [
       "array([2.42802904, 2.30542711, 2.19394931, 1.36159996])"
      ]
     },
     "execution_count": 30,
     "metadata": {
      "tags": []
     },
     "output_type": "execute_result"
    }
   ],
   "source": [
    "arr.sum(0)"
   ]
  },
  {
   "cell_type": "code",
   "execution_count": 0,
   "metadata": {
    "colab": {},
    "colab_type": "code",
    "id": "7X24Nw-jR9Zv"
   },
   "outputs": [],
   "source": [
    "arr = np.array([[0,1,2],[3,4,5],[6,7,8]])"
   ]
  },
  {
   "cell_type": "code",
   "execution_count": 0,
   "metadata": {
    "colab": {},
    "colab_type": "code",
    "id": "npl_aQdsR9Zz",
    "outputId": "f7623224-c304-43c4-b20d-a50f9bd7ef55"
   },
   "outputs": [
    {
     "data": {
      "text/plain": [
       "array([[ 0,  1,  2],\n",
       "       [ 3,  5,  7],\n",
       "       [ 9, 12, 15]])"
      ]
     },
     "execution_count": 34,
     "metadata": {
      "tags": []
     },
     "output_type": "execute_result"
    }
   ],
   "source": [
    "arr.cumsum(0)"
   ]
  },
  {
   "cell_type": "code",
   "execution_count": 0,
   "metadata": {
    "colab": {},
    "colab_type": "code",
    "id": "yRaXpPrpR9Z7",
    "outputId": "e9d9f300-32bd-4520-f2d0-87a73b040a5d"
   },
   "outputs": [
    {
     "data": {
      "text/plain": [
       "array([[  0,   0,   0],\n",
       "       [  3,  12,  60],\n",
       "       [  6,  42, 336]])"
      ]
     },
     "execution_count": 35,
     "metadata": {
      "tags": []
     },
     "output_type": "execute_result"
    }
   ],
   "source": [
    "arr.cumprod(1)"
   ]
  },
  {
   "cell_type": "markdown",
   "metadata": {
    "colab_type": "text",
    "id": "lUrKzT9IR9aB"
   },
   "source": [
    "### 3. 정렬"
   ]
  },
  {
   "cell_type": "markdown",
   "metadata": {
    "colab_type": "text",
    "id": "6UnZvgoiR9aC"
   },
   "source": [
    "- np.sort 메서드는 배열을 직접 변경하지 않고 정렬된 결과를 가지고 있는 복사본을 반환한다."
   ]
  },
  {
   "cell_type": "code",
   "execution_count": 0,
   "metadata": {
    "colab": {},
    "colab_type": "code",
    "id": "PUfIsvu1R9aF",
    "outputId": "367d083f-2437-40c4-8475-02f1cac9d55f"
   },
   "outputs": [
    {
     "data": {
      "text/plain": [
       "array([-0.72457977,  0.87587823,  1.2289314 , -0.28894393,  0.15205621,\n",
       "        0.39222443, -1.86491412, -0.43901666])"
      ]
     },
     "execution_count": 37,
     "metadata": {
      "tags": []
     },
     "output_type": "execute_result"
    }
   ],
   "source": [
    "arr = np.random.randn(8)\n",
    "arr"
   ]
  },
  {
   "cell_type": "code",
   "execution_count": 0,
   "metadata": {
    "colab": {},
    "colab_type": "code",
    "id": "hxAF-9VBR9aL",
    "outputId": "b6534d03-5bd1-4530-c2d9-a3529f8df507"
   },
   "outputs": [
    {
     "data": {
      "text/plain": [
       "array([-1.86491412, -0.72457977, -0.43901666, -0.28894393,  0.15205621,\n",
       "        0.39222443,  0.87587823,  1.2289314 ])"
      ]
     },
     "execution_count": 39,
     "metadata": {
      "tags": []
     },
     "output_type": "execute_result"
    }
   ],
   "source": [
    "arr.sort()\n",
    "arr"
   ]
  },
  {
   "cell_type": "code",
   "execution_count": 0,
   "metadata": {
    "colab": {},
    "colab_type": "code",
    "id": "s63ZmykrR9aQ",
    "outputId": "4d657394-d0b8-4607-f427-836fd23f170a"
   },
   "outputs": [
    {
     "data": {
      "text/plain": [
       "array([[ 1.6184662 , -1.08623178, -0.94366897],\n",
       "       [-0.48770058,  0.19617067, -1.26855797],\n",
       "       [-0.43161619, -0.80774082,  1.70783631],\n",
       "       [-1.05988322, -0.69291836, -0.12831549],\n",
       "       [-0.2984775 ,  0.07530742, -1.90711257]])"
      ]
     },
     "execution_count": 40,
     "metadata": {
      "tags": []
     },
     "output_type": "execute_result"
    }
   ],
   "source": [
    "arr = np.random.randn(5, 3)\n",
    "arr"
   ]
  },
  {
   "cell_type": "code",
   "execution_count": 0,
   "metadata": {
    "colab": {},
    "colab_type": "code",
    "id": "3oxnsvGuR9aY",
    "outputId": "d4c6f68d-980a-4037-8db3-52c9dc205a1e"
   },
   "outputs": [
    {
     "data": {
      "text/plain": [
       "array([[-1.08623178, -0.94366897,  1.6184662 ],\n",
       "       [-1.26855797, -0.48770058,  0.19617067],\n",
       "       [-0.80774082, -0.43161619,  1.70783631],\n",
       "       [-1.05988322, -0.69291836, -0.12831549],\n",
       "       [-1.90711257, -0.2984775 ,  0.07530742]])"
      ]
     },
     "execution_count": 42,
     "metadata": {
      "tags": []
     },
     "output_type": "execute_result"
    }
   ],
   "source": [
    "arr.sort(1)\n",
    "arr"
   ]
  },
  {
   "cell_type": "markdown",
   "metadata": {
    "colab_type": "text",
    "id": "9RZoS5nJR9ad"
   },
   "source": [
    "## 3. 선형대수"
   ]
  },
  {
   "cell_type": "markdown",
   "metadata": {
    "colab_type": "text",
    "id": "LsxkeJoiR9ae"
   },
   "source": [
    "### 내적은 중요하다."
   ]
  },
  {
   "cell_type": "code",
   "execution_count": 15,
   "metadata": {
    "colab": {},
    "colab_type": "code",
    "id": "aE572FBzR9af"
   },
   "outputs": [
    {
     "name": "stdout",
     "output_type": "stream",
     "text": [
      "(2, 3)\n",
      "(3, 2)\n"
     ]
    }
   ],
   "source": [
    "x = np.array([[1.,2.,3.], [4.,5.,6.]])\n",
    "y = np.array([[6.,23.], [-1, 7], [8, 9]])"
   ]
  },
  {
   "cell_type": "code",
   "execution_count": 0,
   "metadata": {
    "colab": {},
    "colab_type": "code",
    "id": "--So6D2AR9ak",
    "outputId": "87735ef4-97ef-4075-c480-668b0865b0ec"
   },
   "outputs": [
    {
     "data": {
      "text/plain": [
       "array([[ 28.,  64.],\n",
       "       [ 67., 181.]])"
      ]
     },
     "execution_count": 44,
     "metadata": {
      "tags": []
     },
     "output_type": "execute_result"
    }
   ],
   "source": [
    "x.dot(y)"
   ]
  },
  {
   "cell_type": "code",
   "execution_count": 4,
   "metadata": {
    "colab": {},
    "colab_type": "code",
    "id": "dCcBpcr4R9ar"
   },
   "outputs": [],
   "source": [
    "from numpy.linalg import inv"
   ]
  },
  {
   "cell_type": "code",
   "execution_count": 5,
   "metadata": {
    "colab": {},
    "colab_type": "code",
    "id": "QRMzm56wR9av"
   },
   "outputs": [],
   "source": [
    "X = np.random.randn(5, 5)"
   ]
  },
  {
   "cell_type": "code",
   "execution_count": 6,
   "metadata": {
    "colab": {},
    "colab_type": "code",
    "id": "oIuLL9YJR9a3"
   },
   "outputs": [],
   "source": [
    "mat = X.T.dot(X)"
   ]
  },
  {
   "cell_type": "code",
   "execution_count": 7,
   "metadata": {
    "colab": {},
    "colab_type": "code",
    "id": "eKmL5yE0R9a6",
    "outputId": "410d82bb-7115-4801-b22f-1f501685df5d"
   },
   "outputs": [
    {
     "data": {
      "text/plain": [
       "array([[ 0.28486487,  0.125303  , -0.10945001, -0.18919413, -0.05637232],\n",
       "       [ 0.125303  ,  0.46824161,  0.17906984, -0.94156494,  0.0345903 ],\n",
       "       [-0.10945001,  0.17906984,  0.90633226, -0.27829464,  0.4187701 ],\n",
       "       [-0.18919413, -0.94156494, -0.27829464,  3.93398709,  0.17475516],\n",
       "       [-0.05637232,  0.0345903 ,  0.4187701 ,  0.17475516,  0.42030461]])"
      ]
     },
     "execution_count": 7,
     "metadata": {},
     "output_type": "execute_result"
    }
   ],
   "source": [
    "inv(mat)"
   ]
  }
 ],
 "metadata": {
  "colab": {
   "name": "Part 3-2. Numpy 연산.ipynb",
   "provenance": [],
   "version": "0.3.2"
  },
  "kernelspec": {
   "display_name": "Python 3",
   "language": "python",
   "name": "python3"
  },
  "language_info": {
   "codemirror_mode": {
    "name": "ipython",
    "version": 3
   },
   "file_extension": ".py",
   "mimetype": "text/x-python",
   "name": "python",
   "nbconvert_exporter": "python",
   "pygments_lexer": "ipython3",
   "version": "3.5.3"
  }
 },
 "nbformat": 4,
 "nbformat_minor": 1
}
